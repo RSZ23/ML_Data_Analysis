{
 "cells": [
  {
   "cell_type": "code",
   "execution_count": null,
   "id": "6c26b700",
   "metadata": {},
   "outputs": [],
   "source": [
    "# Flight Booking Price Prediction\n",
    "\n",
    "## Objective:\n",
    "\n",
    "The objective is to analyze the flight booking dataset obtained from a platform which is used to book flight \n",
    "tickets. A thorough study of the data will aid in the discovery of valuable insights that will be of enormous \n",
    "value to passengers. Apply EDA, statistical methods and Machine learning algorithms in order to get meaningful \n",
    "information from it. \n",
    "\n",
    "## Dataset Information:\n",
    "\n",
    "Flight booking price prediction dataset contains around 3 lacs records with 11 attributes \n",
    "\n",
    "## Steps:\n",
    "\n",
    "1. Import the Libraries.\n",
    "2. Load the dataset.\n",
    "3. Remove unnecessary columns.\n",
    "4. Check missing/null values.\n",
    "5. Calculate Statistical data.\n",
    "6. Data Visualization.\n",
    "7. Feature Selection\n",
    "    - Plotting the correlation graph to see the correlation between features and dependent variable. \n",
    "    - Selecting the features using VIF.\n",
    "8. Apply Standardization(StandardScalar)\n",
    "9. Predict the price of flight by implementing\n",
    "    -Linear Regression\n",
    "    -Decision Tree Regressor\n",
    "    -Random Forest Regressor\n",
    "10. Calculate r2 score,MAE, MAPE, MSE, RMSE (For each model).\n",
    "\n",
    "\n",
    "\n"
   ]
  }
 ],
 "metadata": {
  "kernelspec": {
   "display_name": "Python 3 (ipykernel)",
   "language": "python",
   "name": "python3"
  },
  "language_info": {
   "codemirror_mode": {
    "name": "ipython",
    "version": 3
   },
   "file_extension": ".py",
   "mimetype": "text/x-python",
   "name": "python",
   "nbconvert_exporter": "python",
   "pygments_lexer": "ipython3",
   "version": "3.9.13"
  }
 },
 "nbformat": 4,
 "nbformat_minor": 5
}
